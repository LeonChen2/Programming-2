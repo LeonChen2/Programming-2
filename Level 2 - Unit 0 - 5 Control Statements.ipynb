{
 "cells": [
  {
   "cell_type": "markdown",
   "metadata": {},
   "source": [
    "# Control Statements\n",
    "\n",
    "![Hello!](https://media.giphy.com/media/ASd0Ukj0y3qMM/giphy.gif)"
   ]
  },
  {
   "cell_type": "markdown",
   "metadata": {},
   "source": [
    "# Skills\n",
    "* understand if statements\n",
    "* understand why we use elif instead of else in some cases"
   ]
  },
  {
   "cell_type": "markdown",
   "metadata": {},
   "source": [
    "## `if` statements\n",
    "We can branch code using contr\n",
    "ol statements.  \n",
    "We can do that using `if` statements.\n",
    "\n",
    "![Branching from https://programarcadegames.com](http://programarcadegames.com/chapters/03_if_statements/flowchart1_thumb.png)"
   ]
  },
  {
   "cell_type": "code",
   "execution_count": null,
   "metadata": {
    "tags": []
   },
   "outputs": [],
   "source": [
    "# ask the user for two values:\n",
    "# floats are decimal numbers\n",
    "# cast numbers as floats or ints\n",
    "a = float(input('First Value: '))\n",
    "b = float(input('Second Value: '))\n",
    "\n",
    "if a < b:\n",
    "    print(f'a is less than b')\n",
    "if b < a:\n",
    "    print(f'b is less than a')\n",
    "print(f'Done')"
   ]
  },
  {
   "cell_type": "markdown",
   "metadata": {},
   "source": [
    "## `elif` and `else` "
   ]
  },
  {
   "cell_type": "code",
   "execution_count": null,
   "metadata": {},
   "outputs": [],
   "source": [
    "# get input from user\n",
    "x = float(input('Enter a number: '))\n",
    "\n",
    "if x > 100:\n",
    "    print(f'x is greater than 100')\n",
    "elif x > 50:\n",
    "    print(f'x is greater than 50')\n",
    "elif x > 20:\n",
    "    print(f'x is greater than 20')\n",
    "else:\n",
    "    print(f'x is something')"
   ]
  },
  {
   "cell_type": "markdown",
   "metadata": {},
   "source": [
    "## Booleans\n",
    "\n",
    "**Booleans** are a _**datatype**_.  \n",
    "They are either `True` or `False` in Python.\n",
    "\n",
    "Note:  \n",
    "Know the distinction between `'True'` and `True`  \n",
    "and equally `'False'` and `False`"
   ]
  },
  {
   "cell_type": "markdown",
   "metadata": {},
   "source": [
    "### _Aside: Checking Data Types_\n",
    "\n",
    "If you want to check the type of data, use, the function `type()`."
   ]
  },
  {
   "cell_type": "code",
   "execution_count": 2,
   "metadata": {},
   "outputs": [
    {
     "data": {
      "text/plain": [
       "bool"
      ]
     },
     "execution_count": 2,
     "metadata": {},
     "output_type": "execute_result"
    }
   ],
   "source": [
    "# reminder that you can check types with type()\n",
    "type(True)"
   ]
  },
  {
   "cell_type": "code",
   "execution_count": 3,
   "metadata": {},
   "outputs": [
    {
     "name": "stdout",
     "output_type": "stream",
     "text": [
      "Something.\n"
     ]
    }
   ],
   "source": [
    "# gotchas -> if statements\n",
    "if \"Hello\":\n",
    "    print(\"Something.\")"
   ]
  },
  {
   "cell_type": "markdown",
   "metadata": {},
   "source": [
    "---\n",
    "In Python anything that is not:\n",
    "* 0\n",
    "* None\n",
    "*Flase\n",
    "**IS TRUE**\n",
    "\n",
    "---"
   ]
  },
  {
   "cell_type": "markdown",
   "metadata": {},
   "source": [
    "## Boolean Expressions\n",
    "\n",
    "Boolean expressions are operations that evaluate to booleans."
   ]
  },
  {
   "cell_type": "code",
   "execution_count": null,
   "metadata": {},
   "outputs": [],
   "source": [
    "\"True\" == \"True\""
   ]
  },
  {
   "cell_type": "markdown",
   "metadata": {},
   "source": [
    "## Boolean Variables\n",
    "\n",
    "Variables can be booleans as well."
   ]
  },
  {
   "cell_type": "code",
   "execution_count": 4,
   "metadata": {},
   "outputs": [
    {
     "name": "stdout",
     "output_type": "stream",
     "text": [
      "It's true.\n"
     ]
    }
   ],
   "source": [
    "# can name boolean variables with 'is'\n",
    "Me_is_cool = True\n",
    "\n",
    "if Me_is_cool:\n",
    "    print(\"It's true.\")"
   ]
  },
  {
   "cell_type": "markdown",
   "metadata": {},
   "source": [
    "## Boolean Operators\n",
    "\n",
    "### Using `not`\n",
    "`not` is a unary operator  \n",
    "You only need **one operand**."
   ]
  },
  {
   "cell_type": "code",
   "execution_count": 8,
   "metadata": {},
   "outputs": [
    {
     "name": "stdout",
     "output_type": "stream",
     "text": [
      "You need umbrella.\n"
     ]
    }
   ],
   "source": [
    "sunny = False\n",
    "\n",
    "if not sunny:\n",
    "    print(\"You need umbrella.\")"
   ]
  },
  {
   "cell_type": "code",
   "execution_count": 14,
   "metadata": {},
   "outputs": [
    {
     "name": "stdout",
     "output_type": "stream",
     "text": [
      "You can't get your N yet.\n"
     ]
    }
   ],
   "source": [
    "age = 17\n",
    "\n",
    "# != -> not equal\n",
    "if age != 16:\n",
    "    print(\"You can't get your N yet.\")"
   ]
  },
  {
   "cell_type": "markdown",
   "metadata": {},
   "source": [
    "### Using `and` and `or`\n",
    "`and` and `or` are binary operators.  \n",
    "You need **two operands** to use them."
   ]
  },
  {
   "cell_type": "code",
   "execution_count": 13,
   "metadata": {},
   "outputs": [
    {
     "name": "stdout",
     "output_type": "stream",
     "text": [
      "You're ready to fight\n"
     ]
    }
   ],
   "source": [
    "have_axe = True\n",
    "have_bow = True\n",
    "\n",
    "if have_axe and have_bow:\n",
    "    print(\"You're ready to fight\")\n",
    "else:\n",
    "    print(\"bring weapon\")"
   ]
  },
  {
   "cell_type": "markdown",
   "metadata": {},
   "source": [
    "---\n",
    "# Practice Questions"
   ]
  },
  {
   "cell_type": "markdown",
   "metadata": {},
   "source": [
    "## 1. What's missing from this code?"
   ]
  },
  {
   "cell_type": "code",
   "execution_count": 16,
   "metadata": {},
   "outputs": [
    {
     "name": "stdin",
     "output_type": "stream",
     "text": [
      "Temperature:  91\n"
     ]
    },
    {
     "name": "stdout",
     "output_type": "stream",
     "text": [
      "It is hot outside.\n"
     ]
    }
   ],
   "source": [
    "temperature = int(input(f'Temperature: '))\n",
    "if temperature > 90:\n",
    "    print(f'It is hot outside.')\n",
    "else:\n",
    "    print(f'It is not hot out.')"
   ]
  },
  {
   "cell_type": "markdown",
   "metadata": {},
   "source": [
    "## 2. What do you think this next code will print out?\n",
    "**Before you run the code,** take your best guess as to what it will print out.  \n",
    "Put your guess here:  "
   ]
  },
  {
   "cell_type": "code",
   "execution_count": 17,
   "metadata": {},
   "outputs": [
    {
     "name": "stdout",
     "output_type": "stream",
     "text": [
      "x=5\n",
      "y=False\n",
      "z=True\n",
      "Buzz\n"
     ]
    }
   ],
   "source": [
    "x = 5\n",
    "y = x == 6 \n",
    "z = x == 5\n",
    "print(f'x={x}')   \n",
    "print(f'y={y}')    \n",
    "print(f'z={z}')    \n",
    "if y:\n",
    "    print(f'Fizz') \n",
    "if z:\n",
    "    print(f'Buzz')"
   ]
  },
  {
   "cell_type": "markdown",
   "metadata": {},
   "source": [
    "## 3. What do you think this code will print out?\n",
    "Again, **take an educated guess before running the code.**  \n",
    "Put your answers in inline comments beside the line of code.  \n",
    "There's an example below.\n",
    "If you're guess isn't right, try and figure out why it outputs what it does."
   ]
  },
  {
   "cell_type": "code",
   "execution_count": 20,
   "metadata": {},
   "outputs": [
    {
     "name": "stdout",
     "output_type": "stream",
     "text": [
      "True\n",
      "False\n",
      "True\n",
      "True\n",
      "True\n",
      "False\n",
      "False\n",
      "True\n"
     ]
    },
    {
     "ename": "TypeError",
     "evalue": "'<' not supported between instances of 'int' and 'str'",
     "output_type": "error",
     "traceback": [
      "\u001b[0;31m---------------------------------------------------------------------------\u001b[0m",
      "\u001b[0;31mTypeError\u001b[0m                                 Traceback (most recent call last)",
      "\u001b[0;32m<ipython-input-20-a7e6e3628142>\u001b[0m in \u001b[0;36m<module>\u001b[0;34m\u001b[0m\n\u001b[1;32m      7\u001b[0m \u001b[0mprint\u001b[0m\u001b[0;34m(\u001b[0m \u001b[0;34m(\u001b[0m\u001b[0;36m2\u001b[0m \u001b[0;34m==\u001b[0m \u001b[0;36m2\u001b[0m\u001b[0;34m)\u001b[0m \u001b[0;34m==\u001b[0m \u001b[0;34m\"True\"\u001b[0m \u001b[0;34m)\u001b[0m \u001b[0;31m# False\u001b[0m\u001b[0;34m\u001b[0m\u001b[0;34m\u001b[0m\u001b[0m\n\u001b[1;32m      8\u001b[0m \u001b[0mprint\u001b[0m\u001b[0;34m(\u001b[0m \u001b[0;34m(\u001b[0m\u001b[0;36m2\u001b[0m \u001b[0;34m==\u001b[0m \u001b[0;36m2\u001b[0m\u001b[0;34m)\u001b[0m \u001b[0;34m==\u001b[0m \u001b[0;32mTrue\u001b[0m \u001b[0;34m)\u001b[0m   \u001b[0;31m# True\u001b[0m\u001b[0;34m\u001b[0m\u001b[0;34m\u001b[0m\u001b[0m\n\u001b[0;32m----> 9\u001b[0;31m \u001b[0mprint\u001b[0m\u001b[0;34m(\u001b[0m\u001b[0;36m3\u001b[0m \u001b[0;34m<\u001b[0m \u001b[0;34m\"3\"\u001b[0m\u001b[0;34m)\u001b[0m              \u001b[0;31m# Break\u001b[0m\u001b[0;34m\u001b[0m\u001b[0;34m\u001b[0m\u001b[0m\n\u001b[0m",
      "\u001b[0;31mTypeError\u001b[0m: '<' not supported between instances of 'int' and 'str'"
     ]
    }
   ],
   "source": [
    "print(\"3\" == \"3\")           # True\n",
    "print(\" 3\" == \"3\")          # False\n",
    "print(3 < 4)                # True\n",
    "print(3 < 10)               # True\n",
    "print(\"3\" < \"4\")            # True\n",
    "print(\"3\" < \"10\")           # False\n",
    "print( (2 == 2) == \"True\" ) # False\n",
    "print( (2 == 2) == True )   # True\n",
    "print(3 < \"3\")              # Break"
   ]
  },
  {
   "cell_type": "markdown",
   "metadata": {},
   "source": [
    "---\n",
    "# Exercise\n",
    "\n",
    "Create your own quiz with five or more questions. You can ask questions that require:\n",
    "1. a number as an answer (e.g., What is 1+1?)\n",
    "2. text (e.g. What is Harry Potter's last name?)\n",
    "3. a selection (Which of these choices are correct? A, B, or C?) \n",
    "\n",
    "If you have the user enter non-numeric answers, think and cover the different ways a user could enter a correct answer. For example, if the answer is “a”, would “A” also be acceptable? \n",
    "1. Let the user know if he or she gets the question correct. Print a message depending on the user's answer.\n",
    "2. You need to keep track of how many questions they get correct.\n",
    "3. At the end of the program print the percentage of questions the user gets right. \n",
    "\n",
    "Delivery Date: February 19 2019"
   ]
  },
  {
   "cell_type": "code",
   "execution_count": 7,
   "metadata": {},
   "outputs": [
    {
     "name": "stdin",
     "output_type": "stream",
     "text": [
      "Welcome to the Quiz. Answer each question to the best of your abilities. First question! what is 8 / 2(2+2) 0\n"
     ]
    },
    {
     "name": "stdout",
     "output_type": "stream",
     "text": [
      "Sorry Wrong Answer\n"
     ]
    },
    {
     "name": "stdin",
     "output_type": "stream",
     "text": [
      "Next question! What is Obama's last name? 0\n"
     ]
    },
    {
     "name": "stdout",
     "output_type": "stream",
     "text": [
      "Sorry Wrong Answer\n"
     ]
    },
    {
     "name": "stdin",
     "output_type": "stream",
     "text": [
      "Next question! What is the value for ∛(-8)? Is it A)2 B)2 or -2. C)-2 D) N/A 0\n"
     ]
    },
    {
     "name": "stdout",
     "output_type": "stream",
     "text": [
      "Sorry wrong answer!\n"
     ]
    },
    {
     "name": "stdin",
     "output_type": "stream",
     "text": [
      "Next question! What is the name of the person in the famous painting known as the Mona Lisa 0\n"
     ]
    },
    {
     "name": "stdout",
     "output_type": "stream",
     "text": [
      "Incorrect\n"
     ]
    },
    {
     "name": "stdin",
     "output_type": "stream",
     "text": [
      "Next question! What is 3 x 3 - 4? 5\n"
     ]
    },
    {
     "name": "stdout",
     "output_type": "stream",
     "text": [
      "Correct!\n",
      "20.0 %\n"
     ]
    }
   ],
   "source": [
    "# Quiz Game\n",
    "# Author: Leon\n",
    "# Date: Dec 4\n",
    "\n",
    "counter = 0\n",
    "\n",
    "Answer_one = input(\"Welcome to the Quiz. Answer each question to the best of your abilities. First question! what is 8 / 2(2+2)\").lower()\n",
    "\n",
    "if Answer_one == str(16) or Answer_one == \"sixteen\".lower():\n",
    "    print(\"Correct!\")\n",
    "    counter += 1\n",
    "elif Answer_one != 16 or Answer_one == \"sixteen\".lower():\n",
    "    print(\"Sorry Wrong Answer\")\n",
    "\n",
    "Answer_two = input(\"Next question! What is Obama's last name?\").lower()\n",
    "\n",
    "if Answer_two == \"Obama\".lower():\n",
    "    print(\"Correct!\")\n",
    "    counter += 1\n",
    "elif Answer_two != \"Obama\":\n",
    "    print(\"Sorry Wrong Answer\")\n",
    "    \n",
    "Answer_three = input(\"Next question! What is the value for ∛(-8)? Is it A)2 B)2 or -2. C)-2 D) N/A\").lower()\n",
    "\n",
    "if Answer_three == \"C\".lower() or Answer_three == \"-2\":\n",
    "    print(\"Correct!\")\n",
    "    counter += 1\n",
    "elif Answer_three != \"C\".lower() or \"-2\":\n",
    "    print(\"Sorry wrong answer!\")\n",
    "    \n",
    "\n",
    "Answer_four = input(\"Next question! What is the first name of the person in the famous painting known as the Mona Lisa\").lower()\n",
    "\n",
    "if Answer_four == \"Lisa\".lower():\n",
    "        print(\"Correct!\")\n",
    "        counter += 1\n",
    "elif Answer_four != \"Lisa\".lower():\n",
    "    print(\"Incorrect\")\n",
    "    \n",
    "Answer_five = input(\"Next question! What is 3 x 3 - 4?\").lower()\n",
    "\n",
    "if Answer_five == \"5\":\n",
    "    print(\"Correct!\")\n",
    "    counter +=1\n",
    "elif Answer_five != \"5\":\n",
    "    print(\"incorrect\")\n",
    "    \n",
    "print(f\"{int(counter)/5 * 100} %\")"
   ]
  },
  {
   "cell_type": "code",
   "execution_count": 4,
   "metadata": {},
   "outputs": [
    {
     "ename": "SyntaxError",
     "evalue": "invalid syntax (<ipython-input-4-6d041af81a24>, line 2)",
     "output_type": "error",
     "traceback": [
      "\u001b[0;36m  File \u001b[0;32m\"<ipython-input-4-6d041af81a24>\"\u001b[0;36m, line \u001b[0;32m2\u001b[0m\n\u001b[0;31m    * Has five or more questions\u001b[0m\n\u001b[0m          ^\u001b[0m\n\u001b[0;31mSyntaxError\u001b[0m\u001b[0;31m:\u001b[0m invalid syntax\n"
     ]
    }
   ],
   "source": [
    "# Requirements\n",
    "* Has five or more questions \n",
    "* Give the user feedback per question \n",
    "* Keep track of correct answers\n",
    "* Give them their outcome at the end\n"
   ]
  },
  {
   "cell_type": "code",
   "execution_count": null,
   "metadata": {},
   "outputs": [],
   "source": []
  }
 ],
 "metadata": {
  "kernelspec": {
   "display_name": "Python 3",
   "language": "python",
   "name": "python3"
  },
  "language_info": {
   "codemirror_mode": {
    "name": "ipython",
    "version": 3
   },
   "file_extension": ".py",
   "mimetype": "text/x-python",
   "name": "python",
   "nbconvert_exporter": "python",
   "pygments_lexer": "ipython3",
   "version": "3.8.2"
  }
 },
 "nbformat": 4,
 "nbformat_minor": 4
}
